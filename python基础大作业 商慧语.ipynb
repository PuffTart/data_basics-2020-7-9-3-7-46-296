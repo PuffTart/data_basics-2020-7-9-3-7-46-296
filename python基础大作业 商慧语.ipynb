{
 "cells": [
  {
   "cell_type": "markdown",
   "metadata": {},
   "source": [
    "# 作业背景\n",
    "MovieLens数据集是一个广泛用来研究推荐系统算法的一个数据集。这个数据集包含了来自电影推荐网站多年积累的数据。我们将基于这个数据集练习数据的处理和分析。\n",
    "从 grouplens 下载数据集 MovieLens 25M Dataset。 数据集包含6个文件：\n",
    "\n",
    "tag.csv 用户给电影打的标签:\n",
    "userId\n",
    "movieId\n",
    "tag\n",
    "timestamp\n",
    "\n",
    "rating.csv 用户给电影的评分:\n",
    "userId\n",
    "movieId\n",
    "rating\n",
    "timestamp\n",
    "\n",
    "movie.csv 电影信息:\n",
    "movieId\n",
    "title\n",
    "genres\n",
    "\n",
    "link.csv 链接到其他资源的id:\n",
    "movieId\n",
    "imdbId\n",
    "tmbdId\n",
    "\n",
    "genome_scores.csv 电影和标签的相关性:\n",
    "movieId\n",
    "tagId\n",
    "relevance\n",
    "\n",
    "genome_tags.csv 包含标签的描述:\n",
    "tagId\n",
    "tag\n",
    "# 需求\n",
    "编写一个python程序读取此数据集的内容，并统计得到以下信息：\n",
    "\n",
    "一共有多少不同的用户\n",
    "\n",
    "一共有多少不同的电影\n",
    "\n",
    "一共有多少不同的电影种类\n",
    "\n",
    "一共有多少电影没有外部链接\n",
    "\n",
    "2018年一共有多少人进行过电影评分\n",
    "\n",
    "# 提交方式\n",
    "github工程源代码文件链接+结果截图"
   ]
  },
  {
   "cell_type": "code",
   "execution_count": 1,
   "metadata": {},
   "outputs": [],
   "source": [
    "import pandas as pd\n",
    "import matplotlib.pyplot as plt\n",
    "import numpy as np\n",
    "%matplotlib inline"
   ]
  },
  {
   "cell_type": "code",
   "execution_count": 7,
   "metadata": {},
   "outputs": [],
   "source": [
    "df_tags = pd.read_csv(r'file/tags.csv')\n",
    "df_movies = pd.read_csv(r'file/movies.csv')\n",
    "df_links = pd.read_csv(r'file/links.csv')\n",
    "df_ratings = pd.read_csv(r'file/ratings.csv')"
   ]
  },
  {
   "cell_type": "code",
   "execution_count": 8,
   "metadata": {
    "scrolled": true
   },
   "outputs": [
    {
     "data": {
      "text/plain": [
       "(   userId  movieId    tag   timestamp\n",
       " 0       2    60756  funny  1445714994,\n",
       "    movieId             title                                       genres\n",
       " 0        1  Toy Story (1995)  Adventure|Animation|Children|Comedy|Fantasy,\n",
       "    movieId  imdbId  tmdbId\n",
       " 0        1  114709   862.0,\n",
       "    userId  movieId  rating  timestamp\n",
       " 0       1        1     4.0  964982703)"
      ]
     },
     "execution_count": 8,
     "metadata": {},
     "output_type": "execute_result"
    }
   ],
   "source": [
    "df_tags.head(1),df_movies.head(1),df_links.head(1),df_ratings.head(1)"
   ]
  },
  {
   "cell_type": "code",
   "execution_count": 10,
   "metadata": {},
   "outputs": [
    {
     "name": "stdout",
     "output_type": "stream",
     "text": [
      "一共有610个不同的用户；\n",
      "一共有9742个不同的电影；\n",
      "一共有20个不同的电影类型；\n",
      "一共有8个电影没有外部链接；\n",
      "2018年一共有610人进行过电影评分。\n"
     ]
    }
   ],
   "source": [
    "df_all = pd.concat([df_tags,df_ratings])   #用于判断用户数和电影数\n",
    "df_movies['genres'] = df_movies['genres'].map(lambda x:x.split('|'))\n",
    "df_new = df_movies.explode('genres')  \n",
    "len(list(df_new.groupby('genres').groups.keys()))\n",
    "print('一共有%s个不同的用户；'%len(df_all.groupby('userId')))\n",
    "print('一共有%s个不同的电影；'%len(df_all.groupby('movieId')))\n",
    "print('一共有%s个不同的电影类型；'%len(list(df_new.groupby('genres').groups.keys())))\n",
    "print('一共有%s个电影没有外部链接；'%len(df_links[np.isnan(df_links.tmdbId)]))   #isnan()只能用于判断数字类型是否为空\n",
    "# 或者使用df_links[ df_links['tmdbId'].isna()== True]\n",
    "print('2018年一共有%s人进行过电影评分。'%len(df_ratings.groupby('userId')))"
   ]
  }
 ],
 "metadata": {
  "kernelspec": {
   "display_name": "Python 3",
   "language": "python",
   "name": "python3"
  },
  "language_info": {
   "codemirror_mode": {
    "name": "ipython",
    "version": 3
   },
   "file_extension": ".py",
   "mimetype": "text/x-python",
   "name": "python",
   "nbconvert_exporter": "python",
   "pygments_lexer": "ipython3",
   "version": "3.7.6"
  }
 },
 "nbformat": 4,
 "nbformat_minor": 4
}
